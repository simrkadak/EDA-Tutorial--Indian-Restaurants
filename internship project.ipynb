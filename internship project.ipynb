{
 "cells": [
  {
   "cell_type": "code",
   "execution_count": 1,
   "id": "f9d509bb-24a6-4150-b585-f2bdb745ae8a",
   "metadata": {},
   "outputs": [],
   "source": [
    "import numpy as np\n",
    "import pandas as pd\n",
    "import matplotlib.pyplot as plt\n",
    "import matplotlib.cm as cm\n",
    "import seaborn as sns\n",
    "import random \n",
    "from wordcloud import WordCloud"
   ]
  },
  {
   "cell_type": "markdown",
   "id": "0a894e7f-2627-4210-a7f8-9fe6e9b60fe9",
   "metadata": {},
   "source": [
    "### Preprocessing\n",
    "\n",
    "#### Exploring Data"
   ]
  },
  {
   "cell_type": "code",
   "execution_count": 2,
   "id": "503032c2-9666-43ff-a09c-aad99bd27edf",
   "metadata": {},
   "outputs": [],
   "source": [
    "data = pd.read_csv('dataset.csv ',encoding='latin1')"
   ]
  },
  {
   "cell_type": "code",
   "execution_count": 3,
   "id": "62e4e28a-ed48-4d4e-8aa2-ff27524a5bf4",
   "metadata": {},
   "outputs": [
    {
     "data": {
      "text/html": [
       "<div>\n",
       "<style scoped>\n",
       "    .dataframe tbody tr th:only-of-type {\n",
       "        vertical-align: middle;\n",
       "    }\n",
       "\n",
       "    .dataframe tbody tr th {\n",
       "        vertical-align: top;\n",
       "    }\n",
       "\n",
       "    .dataframe thead th {\n",
       "        text-align: right;\n",
       "    }\n",
       "</style>\n",
       "<table border=\"1\" class=\"dataframe\">\n",
       "  <thead>\n",
       "    <tr style=\"text-align: right;\">\n",
       "      <th></th>\n",
       "      <th>ï»¿Restaurant ID</th>\n",
       "      <th>Restaurant Name</th>\n",
       "      <th>Country Code</th>\n",
       "      <th>City</th>\n",
       "      <th>Address</th>\n",
       "      <th>Locality</th>\n",
       "      <th>Locality Verbose</th>\n",
       "      <th>Longitude</th>\n",
       "      <th>Latitude</th>\n",
       "      <th>Cuisines</th>\n",
       "      <th>...</th>\n",
       "      <th>Currency</th>\n",
       "      <th>Has Table booking</th>\n",
       "      <th>Has Online delivery</th>\n",
       "      <th>Is delivering now</th>\n",
       "      <th>Switch to order menu</th>\n",
       "      <th>Price range</th>\n",
       "      <th>Aggregate rating</th>\n",
       "      <th>Rating color</th>\n",
       "      <th>Rating text</th>\n",
       "      <th>Votes</th>\n",
       "    </tr>\n",
       "  </thead>\n",
       "  <tbody>\n",
       "    <tr>\n",
       "      <th>0</th>\n",
       "      <td>6317637</td>\n",
       "      <td>Le Petit Souffle</td>\n",
       "      <td>162</td>\n",
       "      <td>Makati City</td>\n",
       "      <td>Third Floor, Century City Mall, Kalayaan Avenu...</td>\n",
       "      <td>Century City Mall, Poblacion, Makati City</td>\n",
       "      <td>Century City Mall, Poblacion, Makati City, Mak...</td>\n",
       "      <td>121.027535</td>\n",
       "      <td>14.565443</td>\n",
       "      <td>French, Japanese, Desserts</td>\n",
       "      <td>...</td>\n",
       "      <td>Botswana Pula(P)</td>\n",
       "      <td>Yes</td>\n",
       "      <td>No</td>\n",
       "      <td>No</td>\n",
       "      <td>No</td>\n",
       "      <td>3</td>\n",
       "      <td>4.8</td>\n",
       "      <td>Dark Green</td>\n",
       "      <td>Excellent</td>\n",
       "      <td>314</td>\n",
       "    </tr>\n",
       "    <tr>\n",
       "      <th>1</th>\n",
       "      <td>6304287</td>\n",
       "      <td>Izakaya Kikufuji</td>\n",
       "      <td>162</td>\n",
       "      <td>Makati City</td>\n",
       "      <td>Little Tokyo, 2277 Chino Roces Avenue, Legaspi...</td>\n",
       "      <td>Little Tokyo, Legaspi Village, Makati City</td>\n",
       "      <td>Little Tokyo, Legaspi Village, Makati City, Ma...</td>\n",
       "      <td>121.014101</td>\n",
       "      <td>14.553708</td>\n",
       "      <td>Japanese</td>\n",
       "      <td>...</td>\n",
       "      <td>Botswana Pula(P)</td>\n",
       "      <td>Yes</td>\n",
       "      <td>No</td>\n",
       "      <td>No</td>\n",
       "      <td>No</td>\n",
       "      <td>3</td>\n",
       "      <td>4.5</td>\n",
       "      <td>Dark Green</td>\n",
       "      <td>Excellent</td>\n",
       "      <td>591</td>\n",
       "    </tr>\n",
       "    <tr>\n",
       "      <th>2</th>\n",
       "      <td>6300002</td>\n",
       "      <td>Heat - Edsa Shangri-La</td>\n",
       "      <td>162</td>\n",
       "      <td>Mandaluyong City</td>\n",
       "      <td>Edsa Shangri-La, 1 Garden Way, Ortigas, Mandal...</td>\n",
       "      <td>Edsa Shangri-La, Ortigas, Mandaluyong City</td>\n",
       "      <td>Edsa Shangri-La, Ortigas, Mandaluyong City, Ma...</td>\n",
       "      <td>121.056831</td>\n",
       "      <td>14.581404</td>\n",
       "      <td>Seafood, Asian, Filipino, Indian</td>\n",
       "      <td>...</td>\n",
       "      <td>Botswana Pula(P)</td>\n",
       "      <td>Yes</td>\n",
       "      <td>No</td>\n",
       "      <td>No</td>\n",
       "      <td>No</td>\n",
       "      <td>4</td>\n",
       "      <td>4.4</td>\n",
       "      <td>Green</td>\n",
       "      <td>Very Good</td>\n",
       "      <td>270</td>\n",
       "    </tr>\n",
       "    <tr>\n",
       "      <th>3</th>\n",
       "      <td>6318506</td>\n",
       "      <td>Ooma</td>\n",
       "      <td>162</td>\n",
       "      <td>Mandaluyong City</td>\n",
       "      <td>Third Floor, Mega Fashion Hall, SM Megamall, O...</td>\n",
       "      <td>SM Megamall, Ortigas, Mandaluyong City</td>\n",
       "      <td>SM Megamall, Ortigas, Mandaluyong City, Mandal...</td>\n",
       "      <td>121.056475</td>\n",
       "      <td>14.585318</td>\n",
       "      <td>Japanese, Sushi</td>\n",
       "      <td>...</td>\n",
       "      <td>Botswana Pula(P)</td>\n",
       "      <td>No</td>\n",
       "      <td>No</td>\n",
       "      <td>No</td>\n",
       "      <td>No</td>\n",
       "      <td>4</td>\n",
       "      <td>4.9</td>\n",
       "      <td>Dark Green</td>\n",
       "      <td>Excellent</td>\n",
       "      <td>365</td>\n",
       "    </tr>\n",
       "    <tr>\n",
       "      <th>4</th>\n",
       "      <td>6314302</td>\n",
       "      <td>Sambo Kojin</td>\n",
       "      <td>162</td>\n",
       "      <td>Mandaluyong City</td>\n",
       "      <td>Third Floor, Mega Atrium, SM Megamall, Ortigas...</td>\n",
       "      <td>SM Megamall, Ortigas, Mandaluyong City</td>\n",
       "      <td>SM Megamall, Ortigas, Mandaluyong City, Mandal...</td>\n",
       "      <td>121.057508</td>\n",
       "      <td>14.584450</td>\n",
       "      <td>Japanese, Korean</td>\n",
       "      <td>...</td>\n",
       "      <td>Botswana Pula(P)</td>\n",
       "      <td>Yes</td>\n",
       "      <td>No</td>\n",
       "      <td>No</td>\n",
       "      <td>No</td>\n",
       "      <td>4</td>\n",
       "      <td>4.8</td>\n",
       "      <td>Dark Green</td>\n",
       "      <td>Excellent</td>\n",
       "      <td>229</td>\n",
       "    </tr>\n",
       "  </tbody>\n",
       "</table>\n",
       "<p>5 rows × 21 columns</p>\n",
       "</div>"
      ],
      "text/plain": [
       "   ï»¿Restaurant ID         Restaurant Name  Country Code              City  \\\n",
       "0           6317637        Le Petit Souffle           162       Makati City   \n",
       "1           6304287        Izakaya Kikufuji           162       Makati City   \n",
       "2           6300002  Heat - Edsa Shangri-La           162  Mandaluyong City   \n",
       "3           6318506                    Ooma           162  Mandaluyong City   \n",
       "4           6314302             Sambo Kojin           162  Mandaluyong City   \n",
       "\n",
       "                                             Address  \\\n",
       "0  Third Floor, Century City Mall, Kalayaan Avenu...   \n",
       "1  Little Tokyo, 2277 Chino Roces Avenue, Legaspi...   \n",
       "2  Edsa Shangri-La, 1 Garden Way, Ortigas, Mandal...   \n",
       "3  Third Floor, Mega Fashion Hall, SM Megamall, O...   \n",
       "4  Third Floor, Mega Atrium, SM Megamall, Ortigas...   \n",
       "\n",
       "                                     Locality  \\\n",
       "0   Century City Mall, Poblacion, Makati City   \n",
       "1  Little Tokyo, Legaspi Village, Makati City   \n",
       "2  Edsa Shangri-La, Ortigas, Mandaluyong City   \n",
       "3      SM Megamall, Ortigas, Mandaluyong City   \n",
       "4      SM Megamall, Ortigas, Mandaluyong City   \n",
       "\n",
       "                                    Locality Verbose   Longitude   Latitude  \\\n",
       "0  Century City Mall, Poblacion, Makati City, Mak...  121.027535  14.565443   \n",
       "1  Little Tokyo, Legaspi Village, Makati City, Ma...  121.014101  14.553708   \n",
       "2  Edsa Shangri-La, Ortigas, Mandaluyong City, Ma...  121.056831  14.581404   \n",
       "3  SM Megamall, Ortigas, Mandaluyong City, Mandal...  121.056475  14.585318   \n",
       "4  SM Megamall, Ortigas, Mandaluyong City, Mandal...  121.057508  14.584450   \n",
       "\n",
       "                           Cuisines  ...          Currency Has Table booking  \\\n",
       "0        French, Japanese, Desserts  ...  Botswana Pula(P)               Yes   \n",
       "1                          Japanese  ...  Botswana Pula(P)               Yes   \n",
       "2  Seafood, Asian, Filipino, Indian  ...  Botswana Pula(P)               Yes   \n",
       "3                   Japanese, Sushi  ...  Botswana Pula(P)                No   \n",
       "4                  Japanese, Korean  ...  Botswana Pula(P)               Yes   \n",
       "\n",
       "  Has Online delivery Is delivering now Switch to order menu Price range  \\\n",
       "0                  No                No                   No           3   \n",
       "1                  No                No                   No           3   \n",
       "2                  No                No                   No           4   \n",
       "3                  No                No                   No           4   \n",
       "4                  No                No                   No           4   \n",
       "\n",
       "   Aggregate rating  Rating color Rating text Votes  \n",
       "0               4.8    Dark Green   Excellent   314  \n",
       "1               4.5    Dark Green   Excellent   591  \n",
       "2               4.4         Green   Very Good   270  \n",
       "3               4.9    Dark Green   Excellent   365  \n",
       "4               4.8    Dark Green   Excellent   229  \n",
       "\n",
       "[5 rows x 21 columns]"
      ]
     },
     "execution_count": 3,
     "metadata": {},
     "output_type": "execute_result"
    }
   ],
   "source": [
    "data.head()"
   ]
  },
  {
   "cell_type": "code",
   "execution_count": 4,
   "id": "e4ecb7dc-6bba-4b8a-8f56-b0c543e5fa17",
   "metadata": {},
   "outputs": [
    {
     "data": {
      "text/plain": [
       "(9551, 21)"
      ]
     },
     "execution_count": 4,
     "metadata": {},
     "output_type": "execute_result"
    }
   ],
   "source": [
    "data.shape"
   ]
  },
  {
   "cell_type": "code",
   "execution_count": 5,
   "id": "df78e780-035f-404e-b86e-6ad6fd38b6d7",
   "metadata": {},
   "outputs": [
    {
     "name": "stdout",
     "output_type": "stream",
     "text": [
      "<class 'pandas.core.frame.DataFrame'>\n",
      "RangeIndex: 9551 entries, 0 to 9550\n",
      "Data columns (total 21 columns):\n",
      " #   Column                Non-Null Count  Dtype  \n",
      "---  ------                --------------  -----  \n",
      " 0   ï»¿Restaurant ID      9551 non-null   int64  \n",
      " 1   Restaurant Name       9551 non-null   object \n",
      " 2   Country Code          9551 non-null   int64  \n",
      " 3   City                  9551 non-null   object \n",
      " 4   Address               9551 non-null   object \n",
      " 5   Locality              9551 non-null   object \n",
      " 6   Locality Verbose      9551 non-null   object \n",
      " 7   Longitude             9551 non-null   float64\n",
      " 8   Latitude              9551 non-null   float64\n",
      " 9   Cuisines              9542 non-null   object \n",
      " 10  Average Cost for two  9551 non-null   int64  \n",
      " 11  Currency              9551 non-null   object \n",
      " 12  Has Table booking     9551 non-null   object \n",
      " 13  Has Online delivery   9551 non-null   object \n",
      " 14  Is delivering now     9551 non-null   object \n",
      " 15  Switch to order menu  9551 non-null   object \n",
      " 16  Price range           9551 non-null   int64  \n",
      " 17  Aggregate rating      9551 non-null   float64\n",
      " 18  Rating color          9551 non-null   object \n",
      " 19  Rating text           9551 non-null   object \n",
      " 20  Votes                 9551 non-null   int64  \n",
      "dtypes: float64(3), int64(5), object(13)\n",
      "memory usage: 1.5+ MB\n"
     ]
    }
   ],
   "source": [
    "data.info()"
   ]
  },
  {
   "cell_type": "code",
   "execution_count": 6,
   "id": "abc18b35-f492-404b-8c09-b1d55d9e5e85",
   "metadata": {},
   "outputs": [
    {
     "data": {
      "text/html": [
       "<div>\n",
       "<style scoped>\n",
       "    .dataframe tbody tr th:only-of-type {\n",
       "        vertical-align: middle;\n",
       "    }\n",
       "\n",
       "    .dataframe tbody tr th {\n",
       "        vertical-align: top;\n",
       "    }\n",
       "\n",
       "    .dataframe thead th {\n",
       "        text-align: right;\n",
       "    }\n",
       "</style>\n",
       "<table border=\"1\" class=\"dataframe\">\n",
       "  <thead>\n",
       "    <tr style=\"text-align: right;\">\n",
       "      <th></th>\n",
       "      <th>ï»¿Restaurant ID</th>\n",
       "      <th>Country Code</th>\n",
       "      <th>Longitude</th>\n",
       "      <th>Latitude</th>\n",
       "      <th>Average Cost for two</th>\n",
       "      <th>Price range</th>\n",
       "      <th>Aggregate rating</th>\n",
       "      <th>Votes</th>\n",
       "    </tr>\n",
       "  </thead>\n",
       "  <tbody>\n",
       "    <tr>\n",
       "      <th>count</th>\n",
       "      <td>9.551000e+03</td>\n",
       "      <td>9551.000000</td>\n",
       "      <td>9551.000000</td>\n",
       "      <td>9551.000000</td>\n",
       "      <td>9551.000000</td>\n",
       "      <td>9551.000000</td>\n",
       "      <td>9551.000000</td>\n",
       "      <td>9551.000000</td>\n",
       "    </tr>\n",
       "    <tr>\n",
       "      <th>mean</th>\n",
       "      <td>9.051128e+06</td>\n",
       "      <td>18.365616</td>\n",
       "      <td>64.126574</td>\n",
       "      <td>25.854381</td>\n",
       "      <td>1199.210763</td>\n",
       "      <td>1.804837</td>\n",
       "      <td>2.666370</td>\n",
       "      <td>156.909748</td>\n",
       "    </tr>\n",
       "    <tr>\n",
       "      <th>std</th>\n",
       "      <td>8.791521e+06</td>\n",
       "      <td>56.750546</td>\n",
       "      <td>41.467058</td>\n",
       "      <td>11.007935</td>\n",
       "      <td>16121.183073</td>\n",
       "      <td>0.905609</td>\n",
       "      <td>1.516378</td>\n",
       "      <td>430.169145</td>\n",
       "    </tr>\n",
       "    <tr>\n",
       "      <th>min</th>\n",
       "      <td>5.300000e+01</td>\n",
       "      <td>1.000000</td>\n",
       "      <td>-157.948486</td>\n",
       "      <td>-41.330428</td>\n",
       "      <td>0.000000</td>\n",
       "      <td>1.000000</td>\n",
       "      <td>0.000000</td>\n",
       "      <td>0.000000</td>\n",
       "    </tr>\n",
       "    <tr>\n",
       "      <th>25%</th>\n",
       "      <td>3.019625e+05</td>\n",
       "      <td>1.000000</td>\n",
       "      <td>77.081343</td>\n",
       "      <td>28.478713</td>\n",
       "      <td>250.000000</td>\n",
       "      <td>1.000000</td>\n",
       "      <td>2.500000</td>\n",
       "      <td>5.000000</td>\n",
       "    </tr>\n",
       "    <tr>\n",
       "      <th>50%</th>\n",
       "      <td>6.004089e+06</td>\n",
       "      <td>1.000000</td>\n",
       "      <td>77.191964</td>\n",
       "      <td>28.570469</td>\n",
       "      <td>400.000000</td>\n",
       "      <td>2.000000</td>\n",
       "      <td>3.200000</td>\n",
       "      <td>31.000000</td>\n",
       "    </tr>\n",
       "    <tr>\n",
       "      <th>75%</th>\n",
       "      <td>1.835229e+07</td>\n",
       "      <td>1.000000</td>\n",
       "      <td>77.282006</td>\n",
       "      <td>28.642758</td>\n",
       "      <td>700.000000</td>\n",
       "      <td>2.000000</td>\n",
       "      <td>3.700000</td>\n",
       "      <td>131.000000</td>\n",
       "    </tr>\n",
       "    <tr>\n",
       "      <th>max</th>\n",
       "      <td>1.850065e+07</td>\n",
       "      <td>216.000000</td>\n",
       "      <td>174.832089</td>\n",
       "      <td>55.976980</td>\n",
       "      <td>800000.000000</td>\n",
       "      <td>4.000000</td>\n",
       "      <td>4.900000</td>\n",
       "      <td>10934.000000</td>\n",
       "    </tr>\n",
       "  </tbody>\n",
       "</table>\n",
       "</div>"
      ],
      "text/plain": [
       "       ï»¿Restaurant ID  Country Code    Longitude     Latitude  \\\n",
       "count      9.551000e+03   9551.000000  9551.000000  9551.000000   \n",
       "mean       9.051128e+06     18.365616    64.126574    25.854381   \n",
       "std        8.791521e+06     56.750546    41.467058    11.007935   \n",
       "min        5.300000e+01      1.000000  -157.948486   -41.330428   \n",
       "25%        3.019625e+05      1.000000    77.081343    28.478713   \n",
       "50%        6.004089e+06      1.000000    77.191964    28.570469   \n",
       "75%        1.835229e+07      1.000000    77.282006    28.642758   \n",
       "max        1.850065e+07    216.000000   174.832089    55.976980   \n",
       "\n",
       "       Average Cost for two  Price range  Aggregate rating         Votes  \n",
       "count           9551.000000  9551.000000       9551.000000   9551.000000  \n",
       "mean            1199.210763     1.804837          2.666370    156.909748  \n",
       "std            16121.183073     0.905609          1.516378    430.169145  \n",
       "min                0.000000     1.000000          0.000000      0.000000  \n",
       "25%              250.000000     1.000000          2.500000      5.000000  \n",
       "50%              400.000000     2.000000          3.200000     31.000000  \n",
       "75%              700.000000     2.000000          3.700000    131.000000  \n",
       "max           800000.000000     4.000000          4.900000  10934.000000  "
      ]
     },
     "execution_count": 6,
     "metadata": {},
     "output_type": "execute_result"
    }
   ],
   "source": [
    "data.describe()"
   ]
  },
  {
   "cell_type": "markdown",
   "id": "8aed389f-d17c-4e82-9f30-f11d47b94b06",
   "metadata": {},
   "source": [
    "### Removing duplicates"
   ]
  },
  {
   "cell_type": "code",
   "execution_count": 7,
   "id": "717f6fd9-821a-4650-a4fe-708eaea7a091",
   "metadata": {},
   "outputs": [
    {
     "data": {
      "text/plain": [
       "(9551, 21)"
      ]
     },
     "execution_count": 7,
     "metadata": {},
     "output_type": "execute_result"
    }
   ],
   "source": [
    "data.drop_duplicates([\"ï»¿Restaurant ID\"], keep='first',inplace=True)\n",
    "data.shape"
   ]
  },
  {
   "cell_type": "code",
   "execution_count": 8,
   "id": "01292cf4-dc89-4850-b979-d7a94cbe01b1",
   "metadata": {},
   "outputs": [
    {
     "data": {
      "text/plain": [
       "ï»¿Restaurant ID        0\n",
       "Restaurant Name         0\n",
       "Country Code            0\n",
       "City                    0\n",
       "Address                 0\n",
       "Locality                0\n",
       "Locality Verbose        0\n",
       "Longitude               0\n",
       "Latitude                0\n",
       "Cuisines                9\n",
       "Average Cost for two    0\n",
       "Currency                0\n",
       "Has Table booking       0\n",
       "Has Online delivery     0\n",
       "Is delivering now       0\n",
       "Switch to order menu    0\n",
       "Price range             0\n",
       "Aggregate rating        0\n",
       "Rating color            0\n",
       "Rating text             0\n",
       "Votes                   0\n",
       "dtype: int64"
      ]
     },
     "execution_count": 8,
     "metadata": {},
     "output_type": "execute_result"
    }
   ],
   "source": [
    "data.isnull().sum()"
   ]
  },
  {
   "cell_type": "code",
   "execution_count": 9,
   "id": "9db27911-1275-4bc7-a383-614336ebb9d3",
   "metadata": {},
   "outputs": [
    {
     "data": {
      "text/plain": [
       "array(['Makati City', 'Mandaluyong City', 'Pasay City', 'Pasig City',\n",
       "       'Quezon City', 'San Juan City', 'Santa Rosa', 'Tagaytay City',\n",
       "       'Taguig City', 'Brasï¿½_lia', 'Rio de Janeiro', 'Sï¿½ï¿½o Paulo',\n",
       "       'Albany', 'Armidale', 'Athens', 'Augusta', 'Balingup',\n",
       "       'Beechworth', 'Boise', 'Cedar Rapids/Iowa City', 'Chatham-Kent',\n",
       "       'Clatskanie', 'Cochrane', 'Columbus', 'Consort', 'Dalton',\n",
       "       'Davenport', 'Des Moines', 'Dicky Beach', 'Dubuque',\n",
       "       'East Ballina', 'Fernley', 'Flaxton', 'Forrest', 'Gainesville',\n",
       "       'Hepburn Springs', 'Huskisson', 'Inverloch', 'Lakes Entrance',\n",
       "       'Lakeview', 'Lincoln', 'Lorn', 'Macedon', 'Macon', 'Mayfield',\n",
       "       'Mc Millan', 'Middleton Beach', 'Miller', 'Monroe', 'Montville',\n",
       "       'Ojo Caliente', 'Orlando', 'Palm Cove', 'Paynesville', 'Penola',\n",
       "       'Pensacola', 'Phillip Island', 'Pocatello', 'Potrero', 'Princeton',\n",
       "       'Rest of Hawaii', 'Savannah', 'Singapore', 'Sioux City',\n",
       "       'Tampa Bay', 'Tanunda', 'Trentham East', 'Valdosta', 'Vernonia',\n",
       "       'Victor Harbor', 'Vineland Station', 'Waterloo', 'Weirton',\n",
       "       'Winchester Bay', 'Yorkton', 'Abu Dhabi', 'Dubai', 'Sharjah',\n",
       "       'Agra', 'Ahmedabad', 'Allahabad', 'Amritsar', 'Aurangabad',\n",
       "       'Bangalore', 'Bhopal', 'Bhubaneshwar', 'Chandigarh', 'Chennai',\n",
       "       'Coimbatore', 'Dehradun', 'Faridabad', 'Ghaziabad', 'Goa',\n",
       "       'Gurgaon', 'Guwahati', 'Hyderabad', 'Indore', 'Jaipur', 'Kanpur',\n",
       "       'Kochi', 'Kolkata', 'Lucknow', 'Ludhiana', 'Mangalore', 'Mohali',\n",
       "       'Mumbai', 'Mysore', 'Nagpur', 'Nashik', 'New Delhi', 'Noida',\n",
       "       'Panchkula', 'Patna', 'Puducherry', 'Pune', 'Ranchi',\n",
       "       'Secunderabad', 'Surat', 'Vadodara', 'Varanasi', 'Vizag',\n",
       "       'Bandung', 'Bogor', 'Jakarta', 'Tangerang', 'Auckland',\n",
       "       'Wellington City', 'Birmingham', 'Edinburgh', 'London',\n",
       "       'Manchester', 'Doha', 'Cape Town', 'Inner City', 'Johannesburg',\n",
       "       'Pretoria', 'Randburg', 'Sandton', 'Colombo', 'Ankara',\n",
       "       'ï¿½ï¿½stanbul'], dtype=object)"
      ]
     },
     "execution_count": 9,
     "metadata": {},
     "output_type": "execute_result"
    }
   ],
   "source": [
    "data[\"City\"].unique()"
   ]
  },
  {
   "cell_type": "code",
   "execution_count": 10,
   "id": "1004fef5-c4b5-429d-bb97-ca181f71d3eb",
   "metadata": {},
   "outputs": [
    {
     "name": "stdout",
     "output_type": "stream",
     "text": [
      "Makati City\n",
      "<class 'str'>\n"
     ]
    }
   ],
   "source": [
    "print(data[\"City\"].unique()[0])\n",
    "print(type(data[\"City\"].unique()[0]))"
   ]
  },
  {
   "cell_type": "code",
   "execution_count": 11,
   "id": "b05862ee-e47f-40b4-b39c-584c1dfb40a6",
   "metadata": {},
   "outputs": [
    {
     "name": "stdout",
     "output_type": "stream",
     "text": [
      "Makati City\n",
      "kati Ci\n",
      "['kati Ci' 'ndaluyong Ci' 'say Ci' 'sig Ci' 'ezon Ci' 'n Juan Ci' 'nta Ro'\n",
      " 'gaytay Ci' 'guig Ci' 'asï¿½_l' 'o de Janei' '¿½ï¿½o Pau' 'ba' 'mida'\n",
      " 'he' 'gus' 'ling' 'echwor' 'i' 'dar Rapids/Iowa Ci' 'atham-Ke' 'atskan'\n",
      " 'chra' 'lumb' 'nso' 'lt' 'venpo' 's Moin' 'cky Bea' 'buq' 'st Balli'\n",
      " 'rnl' 'axt' 'rre' 'inesvil' 'pburn Sprin' 'skiss' 'verlo' 'kes Entran'\n",
      " 'kevi' 'nco' '' 'ced' 'c' 'yfie' ' Mill' 'ddleton Bea' 'll' 'nr' 'ntvil'\n",
      " 'o Calien' 'lan' 'lm Co' 'ynesvil' 'no' 'nsaco' 'illip Isla' 'catel'\n",
      " 'tre' 'incet' 'st of Hawa' 'vann' 'ngapo' 'oux Ci' 'mpa B' 'nun'\n",
      " 'entham Ea' 'ldos' 'rnon' 'ctor Harb' 'neland Stati' 'terl' 'irt'\n",
      " 'nchester B' 'rkt' 'u Dha' 'b' 'arj' 'medab' 'lahab' 'rits' 'rangab'\n",
      " 'ngalo' 'op' 'ubaneshw' 'andiga' 'enn' 'imbato' 'hrad' 'ridab' 'aziab'\n",
      " 'rga' 'waha' 'derab' 'do' 'ip' 'np' 'lka' 'ckn' 'dhia' 'ha' 'mb' 'so'\n",
      " 'gp' 'sh' 'w Del' 'nchku' 't' 'ducher' 'nc' 'cunderab' 'r' 'doda' 'rana'\n",
      " 'z' 'ndu' 'g' 'kar' 'ngera' 'ckla' 'llington Ci' 'rmingh' 'inbur' 'nd'\n",
      " 'nchest' 'pe To' 'ner Ci' 'hannesbu' 'etor' 'ndbu' 'ndt' 'lom' 'ka'\n",
      " '½ï¿½stanb']\n",
      "['kati Ci' 'ndaluyong Ci' 'say Ci' 'sig Ci' 'ezon Ci' 'n Juan Ci' 'nta Ro'\n",
      " 'gaytay Ci' 'guig Ci' 'asï¿½_l' 'o de Janei' '¿½ï¿½o Pau' 'ba' 'mida'\n",
      " 'he' 'gus' 'ling' 'echwor' 'i' 'dar Rapids/Iowa Ci' 'atham-Ke' 'atskan'\n",
      " 'chra' 'lumb' 'nso' 'lt' 'venpo' 's Moin' 'cky Bea' 'buq' 'st Balli'\n",
      " 'rnl' 'axt' 'rre' 'inesvil' 'pburn Sprin' 'skiss' 'verlo' 'kes Entran'\n",
      " 'kevi' 'nco' 'NA' 'ced' 'c' 'yfie' ' Mill' 'ddleton Bea' 'll' 'nr'\n",
      " 'ntvil' 'o Calien' 'lan' 'lm Co' 'ynesvil' 'no' 'nsaco' 'illip Isla'\n",
      " 'catel' 'tre' 'incet' 'st of Hawa' 'vann' 'ngapo' 'oux Ci' 'mpa B' 'nun'\n",
      " 'entham Ea' 'ldos' 'rnon' 'ctor Harb' 'neland Stati' 'terl' 'irt'\n",
      " 'nchester B' 'rkt' 'u Dha' 'b' 'arj' 'medab' 'lahab' 'rits' 'rangab'\n",
      " 'ngalo' 'op' 'ubaneshw' 'andiga' 'enn' 'imbato' 'hrad' 'ridab' 'aziab'\n",
      " 'rga' 'waha' 'derab' 'do' 'ip' 'np' 'lka' 'ckn' 'dhia' 'ha' 'mb' 'so'\n",
      " 'gp' 'sh' 'w Del' 'nchku' 't' 'ducher' 'nc' 'cunderab' 'r' 'doda' 'rana'\n",
      " 'z' 'ndu' 'g' 'kar' 'ngera' 'ckla' 'llington Ci' 'rmingh' 'inbur' 'nd'\n",
      " 'nchest' 'pe To' 'ner Ci' 'hannesbu' 'etor' 'ndbu' 'ndt' 'lom' 'ka'\n",
      " '½ï¿½stanb']\n"
     ]
    }
   ],
   "source": [
    "#removing[''] from each value\n",
    "print(data[\"City\"].unique()[0])\n",
    "data[\"City\"]= data[\"City\"].apply(lambda x:x[2:-2])\n",
    "print(data[\"City\"].unique()[0])\n",
    "\n",
    "#Changing'' to 'NA'\n",
    "print(data[\"City\"].unique())\n",
    "data[\"City\"]= data[\"City\"].apply(lambda x: np.where(x==\"\",\"NA\", x))\n",
    "print(data[\"City\"].unique())\n"
   ]
  },
  {
   "cell_type": "code",
   "execution_count": 12,
   "id": "d56bc29a-526a-4c3d-b8a0-20eab4720a3c",
   "metadata": {},
   "outputs": [
    {
     "data": {
      "text/plain": [
       "1208"
      ]
     },
     "execution_count": 12,
     "metadata": {},
     "output_type": "execute_result"
    }
   ],
   "source": [
    "data[\"Locality\"].nunique()"
   ]
  },
  {
   "cell_type": "code",
   "execution_count": 13,
   "id": "86fb85a3-aae0-456c-b0d5-43bd8cdfdda3",
   "metadata": {},
   "outputs": [
    {
     "data": {
      "text/plain": [
       "array([162,  30, 216,  14,  37, 184, 214,   1,  94, 148, 215, 166, 189,\n",
       "       191, 208], dtype=int64)"
      ]
     },
     "execution_count": 13,
     "metadata": {},
     "output_type": "execute_result"
    }
   ],
   "source": [
    "data[\"Country Code\"].unique()"
   ]
  },
  {
   "cell_type": "code",
   "execution_count": 14,
   "id": "090fd951-44d9-4b35-9aba-28843f44d375",
   "metadata": {},
   "outputs": [
    {
     "data": {
      "text/plain": [
       "1265"
      ]
     },
     "execution_count": 14,
     "metadata": {},
     "output_type": "execute_result"
    }
   ],
   "source": [
    "data[\"Locality Verbose\"].nunique()"
   ]
  },
  {
   "cell_type": "code",
   "execution_count": 15,
   "id": "18693a27-3157-4ce7-87d8-76daf3010cfd",
   "metadata": {},
   "outputs": [
    {
     "name": "stdout",
     "output_type": "stream",
     "text": [
      "1825\n",
      "['French, Japanese, Desserts' 'Japanese'\n",
      " 'Seafood, Asian, Filipino, Indian' ... 'Burger, Izgara'\n",
      " 'World Cuisine, Patisserie, Cafe' 'Italian, World Cuisine']\n"
     ]
    }
   ],
   "source": [
    "print(data[\"Cuisines\"].nunique())\n",
    "print(data[\"Cuisines\"].unique())"
   ]
  },
  {
   "cell_type": "code",
   "execution_count": 16,
   "id": "a2066a51-c94b-45df-bab2-ffd34eaf3d2a",
   "metadata": {},
   "outputs": [],
   "source": [
    "data[\"Cuisines\"]= data[\"Cuisines\"].fillna(\"No Cuisine \")"
   ]
  },
  {
   "cell_type": "code",
   "execution_count": 17,
   "id": "69ade4b1-18ac-455b-89ce-4ead16f537bc",
   "metadata": {},
   "outputs": [
    {
     "name": "stdout",
     "output_type": "stream",
     "text": [
      "Total number of unique Cuisines=  <bound method IndexOpsMixin.nunique of 0                 French\n",
      "1               Japanese\n",
      "2               Desserts\n",
      "3               Japanese\n",
      "4                Seafood\n",
      "              ...       \n",
      "19714               Cafe\n",
      "19715            Italian\n",
      "19716      World Cuisine\n",
      "19717    Restaurant Cafe\n",
      "19718               Cafe\n",
      "Length: 19719, dtype: object>\n"
     ]
    }
   ],
   "source": [
    "Cuisines = []\n",
    "data[\"Cuisines\"].apply(lambda x : Cuisines.extend(x.split(\", \")))\n",
    "Cuisines = pd.Series(Cuisines)\n",
    "print(\"Total number of unique Cuisines= \", Cuisines.nunique)"
   ]
  },
  {
   "cell_type": "code",
   "execution_count": 18,
   "id": "3fdf8826-213a-4c31-8a6d-d41aea25f8ad",
   "metadata": {},
   "outputs": [
    {
     "name": "stdout",
     "output_type": "stream",
     "text": [
      "8120\n",
      "[121.027535   121.014101   121.056831   ...  29.03464001  29.036019\n",
      "  29.02601603]\n"
     ]
    }
   ],
   "source": [
    "print(data[\"Longitude\"].nunique())\n",
    "print(data[\"Longitude\"].unique())"
   ]
  },
  {
   "cell_type": "code",
   "execution_count": 19,
   "id": "d1988185-aba0-4efe-85a0-300c0e228a44",
   "metadata": {},
   "outputs": [
    {
     "data": {
      "text/plain": [
       "array([  1100,   1200,   4000,   1500,   1000,   2000,   6000,    800,\n",
       "          900,    700,    850,    600,   3000,   1800,     55,     30,\n",
       "           45,     60,     50,     80,     90,    200,    150,    100,\n",
       "          230,    240,    350,    140,    170,    120,    250,     40,\n",
       "           70,    300,     85,     75,    400,     65,     25,     10,\n",
       "            0,     20,     35,      7,    270,    500,    430,    315,\n",
       "          220,     95,    190,    260,    180,    330,    280,    160,\n",
       "          285,    130,    110,   2500,   3600,    550,   1400,    450,\n",
       "          950,    650,   1300,   2400,   1600,   2200,    750,   1700,\n",
       "         1250,   1900,   2700,   3500,   5000,   2300,   1750,   3200,\n",
       "         2100,   1850,   4500,   3300,   1350,   1650,   1950,   1050,\n",
       "          290,   1450,   2800,   3650,   4800,   1550,    720,   6500,\n",
       "         7000,   1150,   2900,   2600,   4700,   3700,   3800,   4100,\n",
       "         4300,   2650,   5100,   5500,   4400,   4200,   8000,   2350,\n",
       "       150000,  70000, 250000, 200000, 165000, 800000, 500000, 300000,\n",
       "       450000, 120000, 100000, 350000,    105,     15,    445,    294,\n",
       "          360,    535,    125,    320,    570,   1540,    515,    955,\n",
       "          390,    410,   3210,    545], dtype=int64)"
      ]
     },
     "execution_count": 19,
     "metadata": {},
     "output_type": "execute_result"
    }
   ],
   "source": [
    "data[\"Average Cost for two\"].unique()"
   ]
  },
  {
   "cell_type": "code",
   "execution_count": 20,
   "id": "c9fb2c93-f873-4302-8a95-a96cf5e00b1a",
   "metadata": {},
   "outputs": [
    {
     "data": {
      "text/plain": [
       "array([3, 4, 2, 1], dtype=int64)"
      ]
     },
     "execution_count": 20,
     "metadata": {},
     "output_type": "execute_result"
    }
   ],
   "source": [
    "data[\"Price range\"].unique()"
   ]
  },
  {
   "cell_type": "code",
   "execution_count": 21,
   "id": "2fbb6b6a-eba6-4af1-95fd-8a3fae7efe34",
   "metadata": {},
   "outputs": [
    {
     "data": {
      "text/plain": [
       "array(['Botswana Pula(P)', 'Brazilian Real(R$)', 'Dollar($)',\n",
       "       'Emirati Diram(AED)', 'Indian Rupees(Rs.)',\n",
       "       'Indonesian Rupiah(IDR)', 'NewZealand($)', 'Pounds(ï¿½ï¿½)',\n",
       "       'Qatari Rial(QR)', 'Rand(R)', 'Sri Lankan Rupee(LKR)',\n",
       "       'Turkish Lira(TL)'], dtype=object)"
      ]
     },
     "execution_count": 21,
     "metadata": {},
     "output_type": "execute_result"
    }
   ],
   "source": [
    "data[\"Currency\"].unique()"
   ]
  },
  {
   "cell_type": "code",
   "execution_count": 22,
   "id": "cd8e438c-3aaa-425f-bdd5-43746c9a2e8a",
   "metadata": {},
   "outputs": [
    {
     "name": "stdout",
     "output_type": "stream",
     "text": [
      "2\n",
      "['No' 'Yes']\n"
     ]
    }
   ],
   "source": [
    "print(data[\"Has Online delivery\"].nunique())\n",
    "print(data[\"Has Online delivery\"].unique())"
   ]
  },
  {
   "cell_type": "code",
   "execution_count": 23,
   "id": "79e06794-569b-4873-83e8-ad21e6d92534",
   "metadata": {},
   "outputs": [
    {
     "name": "stdout",
     "output_type": "stream",
     "text": [
      "Total number of unique Has Online delivery= 1\n"
     ]
    }
   ],
   "source": [
    "h1=[]\n",
    "data[\"Has Online delivery\"].apply(lambda x : h1.extend(x[2:-2].split(\"', '\")))\n",
    "h1=pd.Series(h1)\n",
    "print(\"Total number of unique Has Online delivery=\",h1.nunique())"
   ]
  },
  {
   "cell_type": "code",
   "execution_count": 24,
   "id": "d7c00c3f-11bb-4551-bb83-52bb057a6aa1",
   "metadata": {},
   "outputs": [
    {
     "data": {
      "text/html": [
       "<div>\n",
       "<style scoped>\n",
       "    .dataframe tbody tr th:only-of-type {\n",
       "        vertical-align: middle;\n",
       "    }\n",
       "\n",
       "    .dataframe tbody tr th {\n",
       "        vertical-align: top;\n",
       "    }\n",
       "\n",
       "    .dataframe thead th {\n",
       "        text-align: right;\n",
       "    }\n",
       "</style>\n",
       "<table border=\"1\" class=\"dataframe\">\n",
       "  <thead>\n",
       "    <tr style=\"text-align: right;\">\n",
       "      <th></th>\n",
       "      <th>Aggregate rating</th>\n",
       "      <th>Votes</th>\n",
       "    </tr>\n",
       "  </thead>\n",
       "  <tbody>\n",
       "    <tr>\n",
       "      <th>mean</th>\n",
       "      <td>2.66637</td>\n",
       "      <td>156.909748</td>\n",
       "    </tr>\n",
       "    <tr>\n",
       "      <th>min</th>\n",
       "      <td>0.00000</td>\n",
       "      <td>0.000000</td>\n",
       "    </tr>\n",
       "    <tr>\n",
       "      <th>max</th>\n",
       "      <td>4.90000</td>\n",
       "      <td>10934.000000</td>\n",
       "    </tr>\n",
       "  </tbody>\n",
       "</table>\n",
       "</div>"
      ],
      "text/plain": [
       "      Aggregate rating         Votes\n",
       "mean           2.66637    156.909748\n",
       "min            0.00000      0.000000\n",
       "max            4.90000  10934.000000"
      ]
     },
     "execution_count": 24,
     "metadata": {},
     "output_type": "execute_result"
    }
   ],
   "source": [
    "data[[\"Aggregate rating\",\"Votes\",\"Rating text\"]].describe().loc[[\"mean\",\"min\",\"max\"]]"
   ]
  },
  {
   "cell_type": "code",
   "execution_count": 25,
   "id": "cfc8483d-ff45-4294-9aa3-f8d51114cd3f",
   "metadata": {},
   "outputs": [
    {
     "data": {
      "text/plain": [
       "array(['Dark Green', 'Green', 'Yellow', 'Orange', 'White', 'Red'],\n",
       "      dtype=object)"
      ]
     },
     "execution_count": 25,
     "metadata": {},
     "output_type": "execute_result"
    }
   ],
   "source": [
    "data[\"Rating color\"].unique()"
   ]
  },
  {
   "cell_type": "code",
   "execution_count": 26,
   "id": "a04dc209-6600-41c0-bf42-456c42ae2b10",
   "metadata": {},
   "outputs": [
    {
     "data": {
      "text/plain": [
       "array([3, 4, 2, 1], dtype=int64)"
      ]
     },
     "execution_count": 26,
     "metadata": {},
     "output_type": "execute_result"
    }
   ],
   "source": [
    "data[\"Price range\"].unique()"
   ]
  },
  {
   "cell_type": "code",
   "execution_count": 27,
   "id": "500e86bf-bce6-4cc3-bbb5-2a4c63600022",
   "metadata": {},
   "outputs": [
    {
     "data": {
      "text/plain": [
       "<bound method Series.unique of 0       No\n",
       "1       No\n",
       "2       No\n",
       "3       No\n",
       "4       No\n",
       "        ..\n",
       "9546    No\n",
       "9547    No\n",
       "9548    No\n",
       "9549    No\n",
       "9550    No\n",
       "Name: Is delivering now, Length: 9551, dtype: object>"
      ]
     },
     "execution_count": 27,
     "metadata": {},
     "output_type": "execute_result"
    }
   ],
   "source": [
    "data[\"Is delivering now\"].unique"
   ]
  },
  {
   "cell_type": "markdown",
   "id": "a5732a4a-81de-414a-a001-904fe2530832",
   "metadata": {},
   "source": [
    "### Exploratory Data Analysis(EDA)"
   ]
  },
  {
   "cell_type": "code",
   "execution_count": 28,
   "id": "9744a6d8-700c-415c-a94c-55c5b70d4cbf",
   "metadata": {},
   "outputs": [],
   "source": [
    "outlets=data[\"Restaurant Name\"].value_counts()"
   ]
  },
  {
   "cell_type": "code",
   "execution_count": 29,
   "id": "febb7ddf-2834-482c-9ae4-39038275d097",
   "metadata": {},
   "outputs": [],
   "source": [
    "chains = outlets[outlets>=2]\n",
    "single = outlets[outlets>=1]"
   ]
  },
  {
   "cell_type": "code",
   "execution_count": 30,
   "id": "e85bafe3-9ba3-4073-b22c-84824b42b6df",
   "metadata": {},
   "outputs": [
    {
     "name": "stdout",
     "output_type": "stream",
     "text": [
      "Total Restaurants= 9551\n",
      "Percentage of Restaurants that are part of a chain=  22.0 %\n"
     ]
    }
   ],
   "source": [
    "print(\"Total Restaurants=\",data.shape[0])\n",
    "print(\"Percentage of Restaurants that are part of a chain= \",np.round((data.shape[0]-single.shape[0])/data.shape[0],2)*100, \"%\")"
   ]
  },
  {
   "cell_type": "code",
   "execution_count": 31,
   "id": "95bb1c3d-a0e0-43c0-b7f6-d1aae8b829a0",
   "metadata": {},
   "outputs": [],
   "source": [
    "top10_chains=data[\"Restaurant Name\"].value_counts()[:10].sort_values(ascending=True)"
   ]
  },
  {
   "cell_type": "code",
   "execution_count": 32,
   "id": "4a89a23e-f9ef-45a5-ba6d-7cfd16f39e44",
   "metadata": {},
   "outputs": [
    {
     "data": {
      "image/png": "[encoded data removed]",
      "text/plain": [
       "<Figure size 1100x700 with 1 Axes>"
      ]
     },
     "metadata": {},
     "output_type": "display_data"
    }
   ],
   "source": [
    "height = top10_chains.values\n",
    "bars = top10_chains.index\n",
    "y_pos = np.arange(len(bars))\n",
    "\n",
    "fig = plt.figure(figsize=[11,7], frameon=False)\n",
    "ax = fig.gca()\n",
    "ax.spines[\"top\"].set_visible(\"#424242\")\n",
    "ax.spines[\"right\"].set_visible(False)\n",
    "ax.spines[\"left\"].set_color(\"#424242\")\n",
    "ax.spines[\"bottom\"].set_color(\"#424242\")\n",
    "\n",
    "#colors = [\"green\",\"blue\",\"magenta\",\"cyan\",\"gray\",\"yellow\",\"purple\",\"violet\",\"orange\",\"red\",\"maroon\"]\n",
    "#random.shuffle(colors)\n",
    "colors = [\"#f9cdac\",\"#f2a49f\",\"#ec7c92\",\"#e65586\",\"#bc438b\",\"#933291\",\"#692398\",\"#551c7b\",\"#41155e\",\"#2d0f41\"]\n",
    "plt.barh(y_pos, height, color=colors)\n",
    " \n",
    "plt.xticks(color=\"#424242\")\n",
    "\n",
    "plt.yticks(y_pos, bars, color=\"#424242\")\n",
    "plt.xlabel(\"Number of outlets in India\")\n",
    "\n",
    "for i, v in enumerate(height):\n",
    "    ax.text(v+3, i, str(v), color='#424242')\n",
    "plt.title(\"Top 10 Restaurant chain in India (by number of outlets)\")\n",
    "\n",
    "\n",
    "plt.show()"
   ]
  },
  {
   "cell_type": "code",
   "execution_count": 33,
   "id": "767285c6-321a-4b79-a181-57c92430f53e",
   "metadata": {},
   "outputs": [],
   "source": [
    "outlets=data[\"Restaurant Name\"].value_counts()"
   ]
  },
  {
   "cell_type": "code",
   "execution_count": 34,
   "id": "b9f597d1-41d8-4c24-a13b-283ee3f60352",
   "metadata": {},
   "outputs": [],
   "source": [
    "atleast_5_outlets=outlets[outlets>4]"
   ]
  },
  {
   "cell_type": "code",
   "execution_count": 35,
   "id": "a83ef319-fb11-432a-915d-fda2c99fc66f",
   "metadata": {},
   "outputs": [
    {
     "name": "stdout",
     "output_type": "stream",
     "text": [
      "Restaurant Name\n",
      "Chili's            4.580000\n",
      "Farzi Cafe         4.366667\n",
      "Barbeque Nation    4.353846\n",
      "Punjab Grill       4.340000\n",
      "Mocha              4.185714\n",
      "Happy Hakka        3.860000\n",
      "Texas Roadhouse    3.860000\n",
      "TGI Friday's       3.850000\n",
      "L'Opera            3.820000\n",
      "Starbucks          3.805556\n",
      "Name: Aggregate rating, dtype: float64\n"
     ]
    }
   ],
   "source": [
    "# Assuming you have a DataFrame named 'data' with columns 'Restaurant Name' and 'Aggregate rating'\n",
    "\n",
    "# Calculate the number of outlets for each restaurant chain\n",
    "outlets_count = data['Restaurant Name'].value_counts()\n",
    "\n",
    "# Filter out restaurant chains with at least 5 outlets\n",
    "atleast_5_outlets = outlets_count[outlets_count >= 5]\n",
    "\n",
    "# Filter data for restaurant chains with at least 5 outlets\n",
    "filtered_data = data[data['Restaurant Name'].isin(atleast_5_outlets.index)]\n",
    "\n",
    "# Group by restaurant name and calculate the mean aggregate rating\n",
    "mean_ratings = filtered_data.groupby('Restaurant Name')['Aggregate rating'].mean()\n",
    "\n",
    "# Get the top 10 restaurant chains based on mean aggregate rating\n",
    "top10_chains = mean_ratings.nlargest(10)\n",
    "\n",
    "# Print the result\n",
    "print(top10_chains)\n"
   ]
  },
  {
   "cell_type": "code",
   "execution_count": 36,
   "id": "bd797d91-a03e-477d-a248-06c25df70d58",
   "metadata": {},
   "outputs": [
    {
     "data": {
      "image/png": "[encoded data removed]",
      "text/plain": [
       "<Figure size 1100x700 with 1 Axes>"
      ]
     },
     "metadata": {},
     "output_type": "display_data"
    }
   ],
   "source": [
    "height = pd.Series(top10_chains.values).map(lambda x : np.round(x, 2))\n",
    "bars = top10_chains.index\n",
    "y_pos = np.arange(len(bars))\n",
    "\n",
    "fig = plt.figure(figsize=[11,7], frameon=False)\n",
    "ax = fig.gca()\n",
    "ax.spines[\"top\"].set_visible(\"#424242\")\n",
    "ax.spines[\"right\"].set_visible(False)\n",
    "ax.spines[\"left\"].set_color(\"#424242\")\n",
    "ax.spines[\"bottom\"].set_color(\"#424242\")\n",
    "\n",
    "#colors = [\"green\",\"blue\",\"magenta\",\"cyan\",\"gray\",\"yellow\",\"purple\",\"violet\",\"orange\",\"red\",\"maroon\"]\n",
    "#random.shuffle(colors)\n",
    "colors = ['#fded86', '#fce36b', '#f7c65d', '#f1a84f', '#ec8c41', '#e76f34', '#e25328', '#b04829', '#7e3e2b', '#4c3430']\n",
    "plt.barh(y_pos, height, color=colors)\n",
    "plt.xlim(3)\n",
    "plt.xticks(color=\"#424242\")\n",
    "plt.yticks(y_pos, bars, color=\"#424242\")\n",
    "plt.xlabel(\"Number of outlets in India\")\n",
    "\n",
    "for i, v in enumerate(height):\n",
    "    ax.text(v + 0.01, i, str(v), color='#424242')\n",
    "plt.title(\"Top 10 Restaurant chain in India (by average Rating)\")\n",
    "\n",
    "\n",
    "plt.show()"
   ]
  },
  {
   "cell_type": "markdown",
   "id": "5a6859ad-baeb-41b2-b5b4-5cafbfb89dae",
   "metadata": {},
   "source": [
    "### Establishment Types¶\r",
    "#### \n",
    "Number of restaurants (by establishment type)¶"
   ]
  },
  {
   "cell_type": "code",
   "execution_count": 37,
   "id": "1ca94ca1-8bee-4ccf-9c5d-1eedcaff66f1",
   "metadata": {},
   "outputs": [
    {
     "data": {
      "image/png": "[encoded data removed]",
      "text/plain": [
       "<Figure size 800x500 with 1 Axes>"
      ]
     },
     "metadata": {},
     "output_type": "display_data"
    }
   ],
   "source": [
    "est_count = data.groupby(\"City\").count()[\"ï»¿Restaurant ID\"].sort_values(ascending=False)[:5]\n",
    "\n",
    "fig = plt.figure(figsize=[8,5], frameon=False)\n",
    "ax = fig.gca()\n",
    "ax.spines[\"top\"].set_visible(False)\n",
    "ax.spines[\"right\"].set_visible(False)\n",
    "ax.spines[\"left\"].set_color(\"#424242\")\n",
    "ax.spines[\"bottom\"].set_color(\"#424242\")\n",
    "\n",
    "#colors = [\"green\",\"blue\",\"magenta\",\"cyan\",\"gray\",\"yellow\",\"purple\",\"violet\",\"orange\",\"red\",\"maroon\"]\n",
    "#random.shuffle(colors)\n",
    "colors = [\"#2d0f41\",'#933291',\"#e65586\",\"#f2a49f\",\"#f9cdac\"]\n",
    "plt.bar(est_count.index, est_count.values, color=colors)\n",
    "\n",
    "plt.xticks(range(0, 6), color=\"#424242\")\n",
    "plt.yticks(range(0, 25000, 5000), color=\"#424242\")\n",
    "plt.xlabel(\"Top 5 City types\")\n",
    "\n",
    "for i, v in enumerate(est_count):\n",
    "    ax.text(i-0.2, v+500, str(v), color='#424242')\n",
    "plt.title(\"Number of restaurants (by City type)\")\n",
    "\n",
    "\n",
    "plt.show()"
   ]
  },
  {
   "cell_type": "code",
   "execution_count": 38,
   "id": "0787f10e-2e24-4b6d-b260-8479701c6528",
   "metadata": {},
   "outputs": [
    {
     "name": "stdout",
     "output_type": "stream",
     "text": [
      "City\n",
      "ner Ci          4.900000\n",
      "ezon Ci         4.800000\n",
      "kati Ci         4.650000\n",
      "sig Ci          4.633333\n",
      "ndaluyong Ci    4.625000\n",
      "echwor          4.600000\n",
      "nd              4.535000\n",
      "guig Ci         4.525000\n",
      "gaytay Ci       4.500000\n",
      "cunderab        4.500000\n",
      "Name: Aggregate rating, dtype: float64\n"
     ]
    }
   ],
   "source": [
    "# Group data by city and calculate the mean aggregate rating\n",
    "rating_by_est = data.groupby(\"City\")[\"Aggregate rating\"].mean()\n",
    "\n",
    "# Sort the mean ratings in descending order and select the top 10 cities\n",
    "top10_cities = rating_by_est.sort_values(ascending=False).head(10)\n",
    "\n",
    "# Print the result\n",
    "print(top10_cities)\n"
   ]
  },
  {
   "cell_type": "code",
   "execution_count": 39,
   "id": "3b2eeb7d-c4db-4a9c-a39b-83070e7f399d",
   "metadata": {},
   "outputs": [],
   "source": [
    "# To check the number of outlets in each of the above establishment type, uncomment to following code\n",
    "\n",
    "#est_count = data.groupby(\"establishment\").count()[\"name\"].sort_values(ascending=False)\n",
    "#rating_by_est_map = est_count.index.isin(rating_by_est.index)\n",
    "#est_count = est_count[rating_by_est_map][rating_by_est.index]\n",
    "#est_count"
   ]
  },
  {
   "cell_type": "code",
   "execution_count": 40,
   "id": "cba14548-4d90-46ce-9eba-941bff3639c5",
   "metadata": {},
   "outputs": [
    {
     "name": "stdout",
     "output_type": "stream",
     "text": [
      "City\n",
      "lka         2229.650000\n",
      "ngalo       1512.050000\n",
      "mb          1484.850000\n",
      "enn         1384.750000\n",
      "mpa B       1370.350000\n",
      "derab       1340.833333\n",
      "lan         1199.450000\n",
      "ngera       1183.500000\n",
      "g            971.000000\n",
      "cunderab     951.000000\n",
      "Name: Votes, dtype: float64\n"
     ]
    }
   ],
   "source": [
    "# Convert the \"Votes\" column to numeric (if it's not already)\n",
    "data['Votes'] = pd.to_numeric(data['Votes'], errors='coerce')\n",
    "\n",
    "# Group data by city and calculate the mean number of votes\n",
    "votes_by_city = data.groupby(\"City\")[\"Votes\"].mean()\n",
    "\n",
    "# Sort the mean votes in descending order and select the top 10 cities\n",
    "top10_cities_votes = votes_by_city.sort_values(ascending=False).head(10)\n",
    "\n",
    "# Print the result\n",
    "print(top10_cities_votes)\n"
   ]
  },
  {
   "cell_type": "code",
   "execution_count": 41,
   "id": "2a6db909-6ca8-4591-9cf4-821d366bfb01",
   "metadata": {},
   "outputs": [
    {
     "name": "stdout",
     "output_type": "stream",
     "text": [
      "      City  Count Rating text\n",
      "134  w Del   2495     Average\n",
      "110    rga    504     Average\n",
      "46       i    449     Average\n",
      "111  ridab    123     Average\n",
      "1       NA     39   Very Good\n",
      "12       c     22   Very Good\n",
      "88   ngalo     20        Good\n",
      "127   terl     19        Good\n",
      "8    aziab     18     Average\n",
      "13   catel     18        Good\n"
     ]
    }
   ],
   "source": [
    "# Group data by city and rating text, then count occurrences of each rating text category\n",
    "rating_text_counts = data.groupby([\"City\", \"Rating text\"]).size()\n",
    "\n",
    "# Reset the index to make it easier to work with\n",
    "rating_text_counts = rating_text_counts.reset_index(name='Count')\n",
    "\n",
    "# Find the maximum rating text count for each city\n",
    "max_rating_text_counts = rating_text_counts.groupby('City')['Count'].max()\n",
    "\n",
    "# Merge with the original rating text counts to get the corresponding rating text with maximum count\n",
    "top10_cities_ratings = max_rating_text_counts.reset_index().merge(rating_text_counts, on=['City', 'Count'], how='left')\n",
    "\n",
    "# Sort the result by the rating text counts in descending order and select the top 10 cities\n",
    "top10_cities_ratings = top10_cities_ratings.sort_values(by='Count', ascending=False).head(10)\n",
    "\n",
    "# Print the result\n",
    "print(top10_cities_ratings)\n"
   ]
  },
  {
   "cell_type": "markdown",
   "id": "6376a845-a2a5-488c-a462-2ebcf2c7f105",
   "metadata": {},
   "source": [
    "### Cuisine¶\n",
    "#### Unique cuisines"
   ]
  },
  {
   "cell_type": "code",
   "execution_count": 42,
   "id": "9162c874-045e-4b62-af80-cc09017404d5",
   "metadata": {},
   "outputs": [
    {
     "name": "stdout",
     "output_type": "stream",
     "text": [
      "Total number of unique Cuisines =  146\n"
     ]
    }
   ],
   "source": [
    "print(\"Total number of unique Cuisines = \", Cuisines.nunique())"
   ]
  },
  {
   "cell_type": "markdown",
   "id": "b75dd52b-b3e6-4ccb-a4cb-432ce0907fe5",
   "metadata": {},
   "source": [
    "### Number of restaurants (by cuisine)"
   ]
  },
  {
   "cell_type": "code",
   "execution_count": 43,
   "id": "70bbbdd1-8463-449f-930c-daf1e5ed7ee5",
   "metadata": {},
   "outputs": [
    {
     "data": {
      "image/png": "[encoded data removed]",
      "text/plain": [
       "<Figure size 800x500 with 1 Axes>"
      ]
     },
     "metadata": {},
     "output_type": "display_data"
    }
   ],
   "source": [
    "c_count = Cuisines.value_counts()[:5]\n",
    "\n",
    "fig = plt.figure(figsize=[8,5], frameon=False)\n",
    "ax = fig.gca()\n",
    "ax.spines[\"top\"].set_visible(False)\n",
    "ax.spines[\"right\"].set_visible(False)\n",
    "ax.spines[\"left\"].set_color(\"#424242\")\n",
    "ax.spines[\"bottom\"].set_color(\"#424242\")\n",
    "\n",
    "#colors = [\"green\",\"blue\",\"magenta\",\"cyan\",\"gray\",\"yellow\",\"purple\",\"violet\",\"orange\",\"red\",\"maroon\"]\n",
    "#random.shuffle(colors)\n",
    "colors = ['#4c3430', '#b04829', '#ec8c41', '#f7c65d','#fded86']\n",
    "plt.bar(c_count.index, c_count.values, color=colors)\n",
    "\n",
    "plt.xticks(range(0, 6), color=\"#424242\")\n",
    "plt.yticks(range(0, 30000, 5000), color=\"#424242\")\n",
    "plt.xlabel(\"Top 5 cuisines\")\n",
    "for i, v in enumerate(c_count):\n",
    "    ax.text(i-0.2, v+500, str(v), color='#424242')\n",
    "plt.title(\"Number of restaurants (by Cuisine type)\")\n",
    "\n",
    "\n",
    "plt.show()"
   ]
  },
  {
   "cell_type": "markdown",
   "id": "fb64a432-6414-43a7-8395-8d993470eb1c",
   "metadata": {},
   "source": [
    "### Highest rated cuisines"
   ]
  },
  {
   "cell_type": "code",
   "execution_count": 44,
   "id": "80f63029-8761-47d3-b370-36fa74498617",
   "metadata": {},
   "outputs": [],
   "source": [
    "data[\"Cuisines2\"] = data['Cuisines'].apply(lambda x : x.split(\", \"))\n",
    "\n",
    "Cuisines_list = Cuisines.unique().tolist()\n",
    "zeros = np.zeros(shape=(len(Cuisines_list),2))\n",
    "c_and_r = pd.DataFrame(zeros, index=Cuisines_list, columns=[\"Sum\",\"Total\"])"
   ]
  },
  {
   "cell_type": "code",
   "execution_count": 45,
   "id": "43f1fd33-3cc5-43d3-b17b-128ac5720dfd",
   "metadata": {},
   "outputs": [],
   "source": [
    "for i, x in data.iterrows():\n",
    "    for j in x[\"Cuisines2\"]:\n",
    "        c_and_r.loc[j][\"Sum\"] += x[\"Aggregate rating\"]  \n",
    "        c_and_r.loc[j][\"Total\"] += 1"
   ]
  },
  {
   "cell_type": "code",
   "execution_count": 46,
   "id": "03d1b1d7-95a2-4640-817b-9a12930f338c",
   "metadata": {},
   "outputs": [
    {
     "data": {
      "text/html": [
       "<div>\n",
       "<style scoped>\n",
       "    .dataframe tbody tr th:only-of-type {\n",
       "        vertical-align: middle;\n",
       "    }\n",
       "\n",
       "    .dataframe tbody tr th {\n",
       "        vertical-align: top;\n",
       "    }\n",
       "\n",
       "    .dataframe thead th {\n",
       "        text-align: right;\n",
       "    }\n",
       "</style>\n",
       "<table border=\"1\" class=\"dataframe\">\n",
       "  <thead>\n",
       "    <tr style=\"text-align: right;\">\n",
       "      <th></th>\n",
       "      <th>Sum</th>\n",
       "      <th>Total</th>\n",
       "      <th>Mean</th>\n",
       "    </tr>\n",
       "  </thead>\n",
       "  <tbody>\n",
       "    <tr>\n",
       "      <th>French</th>\n",
       "      <td>112.0</td>\n",
       "      <td>29.0</td>\n",
       "      <td>3.862069</td>\n",
       "    </tr>\n",
       "    <tr>\n",
       "      <th>Japanese</th>\n",
       "      <td>512.6</td>\n",
       "      <td>135.0</td>\n",
       "      <td>3.797037</td>\n",
       "    </tr>\n",
       "    <tr>\n",
       "      <th>Desserts</th>\n",
       "      <td>1945.2</td>\n",
       "      <td>653.0</td>\n",
       "      <td>2.978867</td>\n",
       "    </tr>\n",
       "    <tr>\n",
       "      <th>Seafood</th>\n",
       "      <td>672.0</td>\n",
       "      <td>174.0</td>\n",
       "      <td>3.862069</td>\n",
       "    </tr>\n",
       "    <tr>\n",
       "      <th>Asian</th>\n",
       "      <td>888.9</td>\n",
       "      <td>233.0</td>\n",
       "      <td>3.815021</td>\n",
       "    </tr>\n",
       "    <tr>\n",
       "      <th>...</th>\n",
       "      <td>...</td>\n",
       "      <td>...</td>\n",
       "      <td>...</td>\n",
       "    </tr>\n",
       "    <tr>\n",
       "      <th>Izgara</th>\n",
       "      <td>8.7</td>\n",
       "      <td>2.0</td>\n",
       "      <td>4.350000</td>\n",
       "    </tr>\n",
       "    <tr>\n",
       "      <th>World Cuisine</th>\n",
       "      <td>17.2</td>\n",
       "      <td>4.0</td>\n",
       "      <td>4.300000</td>\n",
       "    </tr>\n",
       "    <tr>\n",
       "      <th>Dï¿½_ner</th>\n",
       "      <td>4.4</td>\n",
       "      <td>1.0</td>\n",
       "      <td>4.400000</td>\n",
       "    </tr>\n",
       "    <tr>\n",
       "      <th>Restaurant Cafe</th>\n",
       "      <td>16.1</td>\n",
       "      <td>4.0</td>\n",
       "      <td>4.025000</td>\n",
       "    </tr>\n",
       "    <tr>\n",
       "      <th>Bï¿½_rek</th>\n",
       "      <td>4.7</td>\n",
       "      <td>1.0</td>\n",
       "      <td>4.700000</td>\n",
       "    </tr>\n",
       "  </tbody>\n",
       "</table>\n",
       "<p>146 rows × 3 columns</p>\n",
       "</div>"
      ],
      "text/plain": [
       "                    Sum  Total      Mean\n",
       "French            112.0   29.0  3.862069\n",
       "Japanese          512.6  135.0  3.797037\n",
       "Desserts         1945.2  653.0  2.978867\n",
       "Seafood           672.0  174.0  3.862069\n",
       "Asian             888.9  233.0  3.815021\n",
       "...                 ...    ...       ...\n",
       "Izgara              8.7    2.0  4.350000\n",
       "World Cuisine      17.2    4.0  4.300000\n",
       "Dï¿½_ner            4.4    1.0  4.400000\n",
       "Restaurant Cafe    16.1    4.0  4.025000\n",
       "Bï¿½_rek            4.7    1.0  4.700000\n",
       "\n",
       "[146 rows x 3 columns]"
      ]
     },
     "execution_count": 46,
     "metadata": {},
     "output_type": "execute_result"
    }
   ],
   "source": [
    "c_and_r[\"Mean\"] = c_and_r[\"Sum\"] / c_and_r[\"Total\"]\n",
    "c_and_r"
   ]
  },
  {
   "cell_type": "code",
   "execution_count": 47,
   "id": "eb1f1003-f5ca-4bc7-bef0-2ec904d1d739",
   "metadata": {},
   "outputs": [
    {
     "data": {
      "text/html": [
       "<div>\n",
       "<style scoped>\n",
       "    .dataframe tbody tr th:only-of-type {\n",
       "        vertical-align: middle;\n",
       "    }\n",
       "\n",
       "    .dataframe tbody tr th {\n",
       "        vertical-align: top;\n",
       "    }\n",
       "\n",
       "    .dataframe thead th {\n",
       "        text-align: right;\n",
       "    }\n",
       "</style>\n",
       "<table border=\"1\" class=\"dataframe\">\n",
       "  <thead>\n",
       "    <tr style=\"text-align: right;\">\n",
       "      <th></th>\n",
       "      <th>Mean</th>\n",
       "      <th>Total</th>\n",
       "    </tr>\n",
       "  </thead>\n",
       "  <tbody>\n",
       "    <tr>\n",
       "      <th>Sunda</th>\n",
       "      <td>4.900000</td>\n",
       "      <td>3.0</td>\n",
       "    </tr>\n",
       "    <tr>\n",
       "      <th>Bï¿½_rek</th>\n",
       "      <td>4.700000</td>\n",
       "      <td>1.0</td>\n",
       "    </tr>\n",
       "    <tr>\n",
       "      <th>Taiwanese</th>\n",
       "      <td>4.650000</td>\n",
       "      <td>2.0</td>\n",
       "    </tr>\n",
       "    <tr>\n",
       "      <th>Ramen</th>\n",
       "      <td>4.500000</td>\n",
       "      <td>2.0</td>\n",
       "    </tr>\n",
       "    <tr>\n",
       "      <th>Dim Sum</th>\n",
       "      <td>4.466667</td>\n",
       "      <td>3.0</td>\n",
       "    </tr>\n",
       "    <tr>\n",
       "      <th>Hawaiian</th>\n",
       "      <td>4.412500</td>\n",
       "      <td>8.0</td>\n",
       "    </tr>\n",
       "    <tr>\n",
       "      <th>Dï¿½_ner</th>\n",
       "      <td>4.400000</td>\n",
       "      <td>1.0</td>\n",
       "    </tr>\n",
       "    <tr>\n",
       "      <th>Bubble Tea</th>\n",
       "      <td>4.400000</td>\n",
       "      <td>1.0</td>\n",
       "    </tr>\n",
       "    <tr>\n",
       "      <th>Curry</th>\n",
       "      <td>4.400000</td>\n",
       "      <td>6.0</td>\n",
       "    </tr>\n",
       "    <tr>\n",
       "      <th>Kebab</th>\n",
       "      <td>4.380000</td>\n",
       "      <td>10.0</td>\n",
       "    </tr>\n",
       "  </tbody>\n",
       "</table>\n",
       "</div>"
      ],
      "text/plain": [
       "                Mean  Total\n",
       "Sunda       4.900000    3.0\n",
       "Bï¿½_rek    4.700000    1.0\n",
       "Taiwanese   4.650000    2.0\n",
       "Ramen       4.500000    2.0\n",
       "Dim Sum     4.466667    3.0\n",
       "Hawaiian    4.412500    8.0\n",
       "Dï¿½_ner    4.400000    1.0\n",
       "Bubble Tea  4.400000    1.0\n",
       "Curry       4.400000    6.0\n",
       "Kebab       4.380000   10.0"
      ]
     },
     "execution_count": 47,
     "metadata": {},
     "output_type": "execute_result"
    }
   ],
   "source": [
    "c_and_r[[\"Mean\",\"Total\"]].sort_values(by=\"Mean\", ascending=False)[:10]"
   ]
  },
  {
   "cell_type": "markdown",
   "id": "29eb4bf4-aa82-4197-9f6a-664a8db230bc",
   "metadata": {},
   "source": [
    "### Highlights/Features of restaurants¶\n",
    "#### Unique highlights"
   ]
  },
  {
   "cell_type": "code",
   "execution_count": 48,
   "id": "b12a782c-eed6-439f-a79b-63a2f88dade3",
   "metadata": {},
   "outputs": [
    {
     "name": "stdout",
     "output_type": "stream",
     "text": [
      "Total number of unique Has Online delivery= 1\n"
     ]
    }
   ],
   "source": [
    "h1=[]\n",
    "data[\"Has Online delivery\"].apply(lambda x : h1.extend(x[2:-2].split(\"', '\")))\n",
    "h1=pd.Series(h1)\n",
    "print(\"Total number of unique Has Online delivery=\",h1.nunique())"
   ]
  },
  {
   "cell_type": "code",
   "execution_count": 49,
   "id": "667741a5-4961-4a9a-9249-77cd9f147b08",
   "metadata": {},
   "outputs": [
    {
     "name": "stdout",
     "output_type": "stream",
     "text": [
      "Total number of unique Cuisines =  1\n"
     ]
    }
   ],
   "source": [
    "print(\"Total number of unique Cuisines = \", h1.nunique())"
   ]
  },
  {
   "cell_type": "markdown",
   "id": "33a9cad4-f9d4-44ff-9ddd-d48268ced847",
   "metadata": {},
   "source": [
    "### Number of restaurants (by Has Online delivery)¶"
   ]
  },
  {
   "cell_type": "code",
   "execution_count": 50,
   "id": "5b646bbe-a770-4495-b6e9-4c594fcc4e86",
   "metadata": {},
   "outputs": [
    {
     "data": {
      "image/png": "[encoded data removed]",
      "text/plain": [
       "<Figure size 1000x600 with 1 Axes>"
      ]
     },
     "metadata": {},
     "output_type": "display_data"
    }
   ],
   "source": [
    "h_count = h1.value_counts()[:5]\n",
    "\n",
    "fig = plt.figure(figsize=[10,6], frameon=False)\n",
    "ax = fig.gca()\n",
    "ax.spines[\"top\"].set_visible(False)\n",
    "ax.spines[\"right\"].set_visible(False)\n",
    "ax.spines[\"left\"].set_color(\"#424242\")\n",
    "ax.spines[\"bottom\"].set_color(\"#424242\")\n",
    "\n",
    "#colors = [\"green\",\"blue\",\"magenta\",\"cyan\",\"gray\",\"yellow\",\"purple\",\"violet\",\"orange\",\"red\",\"maroon\"]\n",
    "#random.shuffle(colors)\n",
    "colors = ['#11174b', '#2a5599', '#3e94c0', '#78c6d0', '#dcecc9']\n",
    "plt.bar(h_count.index, h_count.values, color=colors)\n",
    "\n",
    "plt.xticks(range(0, 6), color=\"#424242\")\n",
    "plt.yticks(range(0, 70000, 10000), color=\"#424242\")\n",
    "plt.xlabel(\"Top 5 Has Online delivery\")\n",
    "for i, v in enumerate(h_count):\n",
    "    ax.text(i-0.2, v+500, str(v), color='#424242')\n",
    "plt.title(\"Number of restaurants (by Has Online delivery)\")\n",
    "\n",
    "\n",
    "plt.show()"
   ]
  },
  {
   "cell_type": "markdown",
   "id": "f79e789f-88b2-4b16-802c-2668e8e2a2f0",
   "metadata": {},
   "source": [
    "### Highest rated Has Online delivery"
   ]
  },
  {
   "cell_type": "code",
   "execution_count": 51,
   "id": "3ec15107-be65-497b-8079-1ca369052b7a",
   "metadata": {},
   "outputs": [
    {
     "data": {
      "text/plain": [
       "'No'"
      ]
     },
     "execution_count": 51,
     "metadata": {},
     "output_type": "execute_result"
    }
   ],
   "source": [
    "data[\"Has Online delivery\"][0]"
   ]
  },
  {
   "cell_type": "code",
   "execution_count": 52,
   "id": "3fdb5d23-cab6-41c3-a2b6-ebc1a7bc2d68",
   "metadata": {},
   "outputs": [],
   "source": [
    "data[\"Has Online delivery2\"] = data['Has Online delivery'].apply(lambda x : x[2:-2].split(\"', '\"))\n",
    "\n",
    "h1_list = h1.unique().tolist()\n",
    "zeros = np.zeros(shape=(len(h1_list),2))\n",
    "h_and_r = pd.DataFrame(zeros, index=h1_list, columns=[\"Sum\",\"Total\"])"
   ]
  },
  {
   "cell_type": "code",
   "execution_count": 53,
   "id": "a112ef2a-0e4d-4811-95f4-a7c2a266fff9",
   "metadata": {},
   "outputs": [],
   "source": [
    "for i, x in data.iterrows():\n",
    "    for j in x[\"Has Online delivery2\"]:\n",
    "        h_and_r.loc[j][\"Sum\"] += x[\"Aggregate rating\"]  \n",
    "        h_and_r.loc[j][\"Total\"] += 1"
   ]
  },
  {
   "cell_type": "code",
   "execution_count": 54,
   "id": "40607859-0f02-4571-adbf-d8a6851f571c",
   "metadata": {},
   "outputs": [
    {
     "data": {
      "text/html": [
       "<div>\n",
       "<style scoped>\n",
       "    .dataframe tbody tr th:only-of-type {\n",
       "        vertical-align: middle;\n",
       "    }\n",
       "\n",
       "    .dataframe tbody tr th {\n",
       "        vertical-align: top;\n",
       "    }\n",
       "\n",
       "    .dataframe thead th {\n",
       "        text-align: right;\n",
       "    }\n",
       "</style>\n",
       "<table border=\"1\" class=\"dataframe\">\n",
       "  <thead>\n",
       "    <tr style=\"text-align: right;\">\n",
       "      <th></th>\n",
       "      <th>Sum</th>\n",
       "      <th>Total</th>\n",
       "      <th>Mean</th>\n",
       "    </tr>\n",
       "  </thead>\n",
       "  <tbody>\n",
       "    <tr>\n",
       "      <th></th>\n",
       "      <td>25466.5</td>\n",
       "      <td>9551.0</td>\n",
       "      <td>2.66637</td>\n",
       "    </tr>\n",
       "  </tbody>\n",
       "</table>\n",
       "</div>"
      ],
      "text/plain": [
       "      Sum   Total     Mean\n",
       "  25466.5  9551.0  2.66637"
      ]
     },
     "execution_count": 54,
     "metadata": {},
     "output_type": "execute_result"
    }
   ],
   "source": [
    "h_and_r[\"Mean\"] = h_and_r[\"Sum\"] / h_and_r[\"Total\"]\n",
    "h_and_r"
   ]
  },
  {
   "cell_type": "code",
   "execution_count": 55,
   "id": "48805616-fd5b-4cf8-b75c-4df2ba495c17",
   "metadata": {},
   "outputs": [
    {
     "data": {
      "text/html": [
       "<div>\n",
       "<style scoped>\n",
       "    .dataframe tbody tr th:only-of-type {\n",
       "        vertical-align: middle;\n",
       "    }\n",
       "\n",
       "    .dataframe tbody tr th {\n",
       "        vertical-align: top;\n",
       "    }\n",
       "\n",
       "    .dataframe thead th {\n",
       "        text-align: right;\n",
       "    }\n",
       "</style>\n",
       "<table border=\"1\" class=\"dataframe\">\n",
       "  <thead>\n",
       "    <tr style=\"text-align: right;\">\n",
       "      <th></th>\n",
       "      <th>Mean</th>\n",
       "      <th>Total</th>\n",
       "    </tr>\n",
       "  </thead>\n",
       "  <tbody>\n",
       "    <tr>\n",
       "      <th></th>\n",
       "      <td>2.66637</td>\n",
       "      <td>9551.0</td>\n",
       "    </tr>\n",
       "  </tbody>\n",
       "</table>\n",
       "</div>"
      ],
      "text/plain": [
       "     Mean   Total\n",
       "  2.66637  9551.0"
      ]
     },
     "execution_count": 55,
     "metadata": {},
     "output_type": "execute_result"
    }
   ],
   "source": [
    "h_and_r[[\"Mean\",\"Total\"]].sort_values(by=\"Mean\", ascending=False)[:10]"
   ]
  },
  {
   "cell_type": "markdown",
   "id": "65d7792e-3baa-4f31-a3c7-626b7f4d096d",
   "metadata": {},
   "source": [
    "### Highlights wordcloud¶\n",
    "##### Here we will create a wordcloud of top 30 highlights"
   ]
  },
  {
   "cell_type": "code",
   "execution_count": 56,
   "id": "1b555b2b-92a1-4b8e-8ca9-79cdf75baa34",
   "metadata": {},
   "outputs": [
    {
     "name": "stdout",
     "output_type": "stream",
     "text": [
      "An error occurred: 'h1' should be a non-empty list containing only strings.\n"
     ]
    }
   ],
   "source": [
    "from wordcloud import WordCloud\n",
    "import matplotlib.pyplot as plt\n",
    "\n",
    "# Assuming 'h1' is a list containing text data\n",
    "\n",
    "try:\n",
    "    # Check if 'h1' is a non-empty list containing only strings\n",
    "    if isinstance(h1, list) and all(isinstance(item, str) for item in h1):\n",
    "        if h1:\n",
    "            # Join the elements of 'h1' into a single string\n",
    "            h1_str = \" \".join(h1)\n",
    "\n",
    "            # Generate the word cloud\n",
    "            wordcloud = WordCloud(width=800, height=500, \n",
    "                                  background_color='white', \n",
    "                                  min_font_size=10, max_words=30).generate(h1_str) \n",
    "\n",
    "            # Plot the word cloud\n",
    "            plt.figure(figsize=(8, 8), facecolor=None) \n",
    "            plt.imshow(wordcloud, interpolation='bilinear') \n",
    "            plt.axis(\"off\") \n",
    "            plt.tight_layout(pad=0) \n",
    "            plt.show()\n",
    "        else:\n",
    "            print(\"The list 'h1' is empty. No word cloud generated.\")\n",
    "    else:\n",
    "        raise TypeError(\"'h1' should be a non-empty list containing only strings.\")\n",
    "except Exception as e:\n",
    "    print(\"An error occurred:\", str(e))\n",
    "\n"
   ]
  },
  {
   "cell_type": "markdown",
   "id": "c969d862-01a4-4207-8c79-6528a7319d56",
   "metadata": {},
   "source": [
    "### Ratings and cost¶\r",
    "#### \n",
    "Ratings distribution\r\n",
    "Let's see how the ratings are distributes"
   ]
  },
  {
   "cell_type": "code",
   "execution_count": 57,
   "id": "639c35e0-b5fe-4732-a275-65a1b0395f88",
   "metadata": {},
   "outputs": [
    {
     "name": "stderr",
     "output_type": "stream",
     "text": [
      "C:\\Users\\HP\\AppData\\Local\\Temp\\ipykernel_18636\\3296779145.py:1: FutureWarning: \n",
      "\n",
      "`shade` is now deprecated in favor of `fill`; setting `fill=True`.\n",
      "This will become an error in seaborn v0.14.0; please update your code.\n",
      "\n",
      "  sns.kdeplot(data['Aggregate rating'], shade=True)\n"
     ]
    },
    {
     "data": {
      "image/png": "[encoded data removed]",
      "text/plain": [
       "<Figure size 640x480 with 1 Axes>"
      ]
     },
     "metadata": {},
     "output_type": "display_data"
    }
   ],
   "source": [
    "sns.kdeplot(data['Aggregate rating'], shade=True)\n",
    "plt.title(\"Ratings distribution\")\n",
    "plt.show()"
   ]
  },
  {
   "cell_type": "code",
   "execution_count": 58,
   "id": "573031d9-62cb-42e4-822b-270a1a4bfbbb",
   "metadata": {},
   "outputs": [
    {
     "name": "stderr",
     "output_type": "stream",
     "text": [
      "C:\\Users\\HP\\AppData\\Local\\Temp\\ipykernel_18636\\3451590229.py:1: FutureWarning: \n",
      "\n",
      "`shade` is now deprecated in favor of `fill`; setting `fill=True`.\n",
      "This will become an error in seaborn v0.14.0; please update your code.\n",
      "\n",
      "  sns.kdeplot(data['Average Cost for two'], shade=True)\n"
     ]
    },
    {
     "data": {
      "image/png": "[encoded data removed]",
      "text/plain": [
       "<Figure size 640x480 with 1 Axes>"
      ]
     },
     "metadata": {},
     "output_type": "display_data"
    }
   ],
   "source": [
    "sns.kdeplot(data['Average Cost for two'], shade=True)\n",
    "plt.title(\"Average cost for 2 distribution\")\n",
    "plt.show()"
   ]
  },
  {
   "cell_type": "code",
   "execution_count": 59,
   "id": "b86a999a-911e-4e69-b9b0-58f8cae29937",
   "metadata": {},
   "outputs": [
    {
     "name": "stderr",
     "output_type": "stream",
     "text": [
      "C:\\Users\\HP\\AppData\\Local\\Temp\\ipykernel_18636\\1117229910.py:1: FutureWarning: \n",
      "\n",
      "`shade` is now deprecated in favor of `fill`; setting `fill=True`.\n",
      "This will become an error in seaborn v0.14.0; please update your code.\n",
      "\n",
      "  sns.kdeplot(data['Average Cost for two'], shade=True)\n"
     ]
    },
    {
     "data": {
      "image/png": "[encoded data removed]",
      "text/plain": [
       "<Figure size 640x480 with 1 Axes>"
      ]
     },
     "metadata": {},
     "output_type": "display_data"
    }
   ],
   "source": [
    "sns.kdeplot(data['Average Cost for two'], shade=True)\n",
    "plt.xlim([0, 6000])\n",
    "plt.xticks(range(0,6000,500))\n",
    "plt.title(\"Average cost for 2 distribution\")\n",
    "plt.show()"
   ]
  },
  {
   "cell_type": "markdown",
   "id": "9d4feb14-159f-4230-aaca-bef95edd8983",
   "metadata": {},
   "source": [
    "### Price range count"
   ]
  },
  {
   "cell_type": "code",
   "execution_count": 60,
   "id": "0369302d-916d-4e0c-a1a6-1bc97dcae2b3",
   "metadata": {},
   "outputs": [
    {
     "data": {
      "image/png": "[encoded data removed]",
      "text/plain": [
       "<Figure size 800x500 with 1 Axes>"
      ]
     },
     "metadata": {},
     "output_type": "display_data"
    }
   ],
   "source": [
    "pr_count = data.groupby(\"Price range\").count()[\"Restaurant Name\"]\n",
    "\n",
    "fig = plt.figure(figsize=[8,5], frameon=False)\n",
    "ax = fig.gca()\n",
    "ax.spines[\"top\"].set_visible(False)\n",
    "ax.spines[\"right\"].set_visible(False)\n",
    "ax.spines[\"left\"].set_color(\"#424242\")\n",
    "ax.spines[\"bottom\"].set_color(\"#424242\")\n",
    "\n",
    "#colors = [\"green\",\"blue\",\"magenta\",\"cyan\",\"gray\",\"yellow\",\"purple\",\"violet\",\"orange\",\"red\",\"maroon\"]\n",
    "#random.shuffle(colors)\n",
    "colors = [\"#2d0f41\",'#933291',\"#f2a49f\",\"#f9cdac\"]\n",
    "plt.bar(pr_count.index, pr_count.values, color=colors)\n",
    "plt.xticks(range(0, 5), color=\"#424242\")\n",
    "plt.yticks(range(0, 40000, 5000), color=\"#424242\")\n",
    "plt.xlabel(\"Price Ranges\")\n",
    "\n",
    "for i, v in enumerate(pr_count):\n",
    "    ax.text(i+0.85, v+700, str(v), color='#424242')\n",
    "plt.title(\"Number of restaurants (by Price range)\")\n",
    "\n",
    "\n",
    "plt.show()\n"
   ]
  },
  {
   "cell_type": "markdown",
   "id": "f88696be-9ffb-4afd-b8ca-4fa7366279c8",
   "metadata": {},
   "source": [
    "### Relation between Average price for two and Rating"
   ]
  },
  {
   "cell_type": "code",
   "execution_count": 61,
   "id": "4cda45a7-6390-4979-86d7-a98ccccb66a3",
   "metadata": {},
   "outputs": [
    {
     "name": "stderr",
     "output_type": "stream",
     "text": [
      "C:\\Users\\HP\\AppData\\Local\\Temp\\ipykernel_18636\\846061633.py:1: FutureWarning: Series.__getitem__ treating keys as positions is deprecated. In a future version, integer keys will always be treated as labels (consistent with DataFrame behavior). To access a value by position, use `ser.iloc[pos]`\n",
      "  np.round(data[[\"Average Cost for two\",\"Aggregate rating\"]].corr()[\"Average Cost for two\"][1],2)\n"
     ]
    },
    {
     "data": {
      "text/plain": [
       "0.05"
      ]
     },
     "execution_count": 61,
     "metadata": {},
     "output_type": "execute_result"
    }
   ],
   "source": [
    "np.round(data[[\"Average Cost for two\",\"Aggregate rating\"]].corr()[\"Average Cost for two\"][1],2)"
   ]
  },
  {
   "cell_type": "code",
   "execution_count": 62,
   "id": "7e9ac425-fbea-475f-b4c8-f962b754c06e",
   "metadata": {},
   "outputs": [
    {
     "data": {
      "image/png": "[encoded data removed]",
      "text/plain": [
       "<Figure size 640x480 with 1 Axes>"
      ]
     },
     "metadata": {},
     "output_type": "display_data"
    }
   ],
   "source": [
    "plt.plot(\"Average Cost for two\",\"Aggregate rating\", data=data, linestyle=\"none\", marker=\"o\")\n",
    "plt.xlim([0,6000])\n",
    "plt.title(\"Relationship between Average cost and Rating\")\n",
    "plt.xlabel(\"Average cost for two\")\n",
    "plt.ylabel(\"Ratings\")\n",
    "plt.show()"
   ]
  },
  {
   "cell_type": "markdown",
   "id": "4475fdf2-d503-4f77-a5ff-a6cfb791bb10",
   "metadata": {},
   "source": [
    "### Relation between Price range and Rating"
   ]
  },
  {
   "cell_type": "code",
   "execution_count": 63,
   "id": "6b958ac0-8c5f-4201-9965-81a1ff86156b",
   "metadata": {},
   "outputs": [
    {
     "name": "stderr",
     "output_type": "stream",
     "text": [
      "C:\\Users\\HP\\AppData\\Local\\Temp\\ipykernel_18636\\3080229502.py:1: FutureWarning: Series.__getitem__ treating keys as positions is deprecated. In a future version, integer keys will always be treated as labels (consistent with DataFrame behavior). To access a value by position, use `ser.iloc[pos]`\n",
      "  np.round(data[[\"Price range\",\"Aggregate rating\"]].corr()[\"Price range\"][1],2)\n"
     ]
    },
    {
     "data": {
      "text/plain": [
       "0.44"
      ]
     },
     "execution_count": 63,
     "metadata": {},
     "output_type": "execute_result"
    }
   ],
   "source": [
    "np.round(data[[\"Price range\",\"Aggregate rating\"]].corr()[\"Price range\"][1],2)"
   ]
  },
  {
   "cell_type": "code",
   "execution_count": 64,
   "id": "9bb22d91-7700-4f11-a592-dae225dbfbf4",
   "metadata": {},
   "outputs": [
    {
     "data": {
      "image/png": "[encoded data removed]",
      "text/plain": [
       "<Figure size 640x480 with 1 Axes>"
      ]
     },
     "metadata": {},
     "output_type": "display_data"
    }
   ],
   "source": [
    "sns.boxplot(x='Price range', y='Aggregate rating', data=data)\n",
    "plt.ylim(1)\n",
    "plt.title(\"Relationship between Price range and Ratings\")\n",
    "plt.show()"
   ]
  },
  {
   "cell_type": "code",
   "execution_count": null,
   "id": "c345ff8a-2fe9-4400-9530-4491e9dcf170",
   "metadata": {},
   "outputs": [],
   "source": []
  }
 ],
 "metadata": {
  "kernelspec": {
   "display_name": "Python 3 (ipykernel)",
   "language": "python",
   "name": "python3"
  },
  "language_info": {
   "codemirror_mode": {
    "name": "ipython",
    "version": 3
   },
   "file_extension": ".py",
   "mimetype": "text/x-python",
   "name": "python",
   "nbconvert_exporter": "python",
   "pygments_lexer": "ipython3",
   "version": "3.10.7"
  }
 },
 "nbformat": 4,
 "nbformat_minor": 5
}
